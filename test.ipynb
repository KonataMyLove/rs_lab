{
 "cells": [
  {
   "cell_type": "code",
   "execution_count": 2,
   "metadata": {},
   "outputs": [
    {
     "name": "stdout",
     "output_type": "stream",
     "text": [
      "0\n",
      "userId,movieId,rating,timestamp\n",
      "\n",
      "1\n",
      "1,1,4.0,964982703\n",
      "\n",
      "2\n",
      "1,3,4.0,964981247\n",
      "\n",
      "3\n",
      "1,6,4.0,964982224\n",
      "\n"
     ]
    }
   ],
   "source": [
    "\n",
    "path = '/home/zhuliqing/code/AI-RecommenderSystem/Recall/CollaborativeFiltering/ml-latest-small/ratings.csv'\n",
    "with open(path, 'r') as f:\n",
    "    for i, line in enumerate(f):\n",
    "        print(i)\n",
    "        print(line)\n",
    "        if i == 3:\n",
    "            break"
   ]
  }
 ],
 "metadata": {
  "kernelspec": {
   "display_name": "base",
   "language": "python",
   "name": "python3"
  },
  "language_info": {
   "codemirror_mode": {
    "name": "ipython",
    "version": 3
   },
   "file_extension": ".py",
   "mimetype": "text/x-python",
   "name": "python",
   "nbconvert_exporter": "python",
   "pygments_lexer": "ipython3",
   "version": "3.12.9"
  }
 },
 "nbformat": 4,
 "nbformat_minor": 2
}
