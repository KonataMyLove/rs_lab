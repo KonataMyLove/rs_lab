{
 "cells": [
  {
   "cell_type": "code",
   "execution_count": 21,
   "metadata": {},
   "outputs": [
    {
     "name": "stdout",
     "output_type": "stream",
     "text": [
      "[[0.6590012  0.24243298 0.09856589]\n",
      " [0.24243298 0.6590012  0.09856589]\n",
      " [0.09856588 0.24243297 0.6590011 ]]\n"
     ]
    },
    {
     "name": "stderr",
     "output_type": "stream",
     "text": [
      "2025-03-12 22:04:20.067720: I tensorflow/core/common_runtime/gpu/gpu_device.cc:2021] Created device /job:localhost/replica:0/task:0/device:GPU:0 with 8630 MB memory:  -> device: 0, name: NVIDIA GeForce RTX 3090, pci bus id: 0000:02:00.0, compute capability: 8.6\n",
      "2025-03-12 22:04:20.068159: I tensorflow/core/common_runtime/gpu/gpu_device.cc:2021] Created device /job:localhost/replica:0/task:0/device:GPU:1 with 9748 MB memory:  -> device: 1, name: NVIDIA GeForce RTX 3090, pci bus id: 0000:03:00.0, compute capability: 8.6\n",
      "2025-03-12 22:04:20.068582: I tensorflow/core/common_runtime/gpu/gpu_device.cc:2021] Created device /job:localhost/replica:0/task:0/device:GPU:2 with 9748 MB memory:  -> device: 2, name: NVIDIA GeForce RTX 3090, pci bus id: 0000:83:00.0, compute capability: 8.6\n",
      "2025-03-12 22:04:20.069003: I tensorflow/core/common_runtime/gpu/gpu_device.cc:2021] Created device /job:localhost/replica:0/task:0/device:GPU:3 with 9748 MB memory:  -> device: 3, name: NVIDIA GeForce RTX 3090, pci bus id: 0000:84:00.0, compute capability: 8.6\n"
     ]
    }
   ],
   "source": [
    "import tensorflow.compat.v1 as tf\n",
    "tf.disable_v2_behavior()\n",
    "\n",
    "logits = tf.constant([[2.0, 1.0, 0.1],\n",
    "                      [1.0, 2.0, 0.1],\n",
    "                      [0.1, 1.0, 2.0]], dtype=tf.float32)\n",
    "\n",
    "# 计算softmax\n",
    "softmax_output = tf.nn.softmax(logits, axis=-1)\n",
    "\n",
    "with tf.Session() as sess:\n",
    "    result = sess.run(softmax_output)\n",
    "    print(result)"
   ]
  }
 ],
 "metadata": {
  "kernelspec": {
   "display_name": "tf",
   "language": "python",
   "name": "python3"
  },
  "language_info": {
   "codemirror_mode": {
    "name": "ipython",
    "version": 3
   },
   "file_extension": ".py",
   "mimetype": "text/x-python",
   "name": "python",
   "nbconvert_exporter": "python",
   "pygments_lexer": "ipython3",
   "version": "3.12.9"
  }
 },
 "nbformat": 4,
 "nbformat_minor": 2
}
